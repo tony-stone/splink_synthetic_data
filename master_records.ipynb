{
 "cells": [
  {
   "cell_type": "code",
   "execution_count": null,
   "metadata": {},
   "outputs": [],
   "source": [
    "import re\n",
    "\n",
    "from splink.duckdb.duckdb_linker import DuckDBLinker\n",
    "import splink.duckdb.duckdb_comparison_library as cl\n",
    "\n",
    "from path_fns.filepaths import (\n",
    "    FINAL_CORRUPTED_OUTPUT_FILES_BASE,\n",
    "    DEDUPE_OUTPUTS_FILES_BASE,\n",
    "    TRANSFORMED_MASTER_DATA_ONE_ROW_PER_PERSON\n",
    ")\n",
    "\n",
    "from synthetic_data.prepare import (\n",
    "    prepare_df\n",
    ")\n",
    "\n",
    "from synthetic_data.random_match import (\n",
    "    get_prob_two_rnd_recs_are_match\n",
    ")\n",
    "\n",
    "import pandas as pd\n",
    "import numpy as np\n",
    "import os\n",
    "from pathlib import Path\n",
    "\n",
    "from graphs.linkagegraph import LinkageGraph"
   ]
  },
  {
   "cell_type": "code",
   "execution_count": null,
   "metadata": {},
   "outputs": [],
   "source": [
    "dedupe_data_filename = \"max_corruptions-50_prob_mult-1.0_set-1.parquet\"\n",
    "\n",
    "dedupe_data_path = os.path.join(\n",
    "        DEDUPE_OUTPUTS_FILES_BASE, \n",
    "        dedupe_data_filename\n",
    "    )\n",
    "\n",
    "dedupe_records = pd.read_parquet(dedupe_data_path)\n",
    "len(dedupe_records)\n"
   ]
  },
  {
   "cell_type": "code",
   "execution_count": null,
   "metadata": {},
   "outputs": [],
   "source": [
    "dedupe_records.head(5)"
   ]
  },
  {
   "cell_type": "code",
   "execution_count": null,
   "metadata": {},
   "outputs": [],
   "source": [
    "def calcMaxFmeasure(df, sample = 500000):\n",
    "    df = df.sample(n=sample, axis=0, ignore_index=True).copy()\n",
    "    match_probabilities = sorted(df.match_probability.unique())\n",
    "\n",
    "    f_measures = []\n",
    "    for match_probability in match_probabilities:\n",
    "        true_positives = float(len(df.loc[(df[\"match_probability\"] >= match_probability) & (df[\"cluster_l\"] == df[\"cluster_r\"])]))\n",
    "        false_positives = float(len(df.loc[(df[\"match_probability\"] >= match_probability) & (df[\"cluster_l\"] != df[\"cluster_r\"])]))\n",
    "        false_negatives = float(len(df.loc[(df[\"match_probability\"] < match_probability) & (df[\"cluster_l\"] == df[\"cluster_r\"])]))\n",
    "\n",
    "        f_measures.append(true_positives / (true_positives + 0.5 * (false_positives + false_negatives)))\n",
    "\n",
    "    max_fmeasure_index = f_measures.index(max(f_measures))\n",
    "\n",
    "    return match_probabilities[max_fmeasure_index]"
   ]
  },
  {
   "cell_type": "code",
   "execution_count": null,
   "metadata": {},
   "outputs": [],
   "source": [
    "# threshold = calcMaxFmeasure(dedupe_records)\n",
    "threshold = 0.8951\n",
    "print(threshold)"
   ]
  },
  {
   "cell_type": "code",
   "execution_count": null,
   "metadata": {},
   "outputs": [],
   "source": [
    "len(dedupe_records.loc[(dedupe_records[\"match_probability\"] >= threshold) & (dedupe_records[\"cluster_l\"] != dedupe_records[\"cluster_r\"])]) / len(dedupe_records)"
   ]
  },
  {
   "cell_type": "code",
   "execution_count": null,
   "metadata": {},
   "outputs": [],
   "source": [
    "graphs_all = LinkageGraph(dedupe_records.sample(500000, axis=0, ignore_index=True), prob_threshold = threshold, min_order = 3)\n",
    "df_all = graphs_all.get_measures()\n"
   ]
  },
  {
   "cell_type": "code",
   "execution_count": null,
   "metadata": {},
   "outputs": [],
   "source": [
    "df_all.head(5)"
   ]
  },
  {
   "cell_type": "code",
   "execution_count": null,
   "metadata": {},
   "outputs": [],
   "source": [
    "df_all[df_all[\"cluster_edge_betweenness_modularity\"] > max(df_all[\"cluster_edge_betweenness_modularity\"]) - 0.1]"
   ]
  }
 ],
 "metadata": {
  "kernelspec": {
   "display_name": "Python 3.10.5 ('splink-synthetic-data-wgdmJF1G-py3.10')",
   "language": "python",
   "name": "python3"
  },
  "language_info": {
   "codemirror_mode": {
    "name": "ipython",
    "version": 3
   },
   "file_extension": ".py",
   "mimetype": "text/x-python",
   "name": "python",
   "nbconvert_exporter": "python",
   "pygments_lexer": "ipython3",
   "version": "3.10.5"
  },
  "vscode": {
   "interpreter": {
    "hash": "8eb8e75dda806d3ac6e26aaf7be42b5929aa5dc2c51ff4b4461a839a1090eb14"
   }
  }
 },
 "nbformat": 4,
 "nbformat_minor": 4
}
